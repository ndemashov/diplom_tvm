{
 "cells": [
  {
   "cell_type": "code",
   "execution_count": 1,
   "id": "e943c8e4",
   "metadata": {},
   "outputs": [],
   "source": [
    "import sys\n",
    "sys.path.append(\"/home/user/relax/python\")"
   ]
  },
  {
   "cell_type": "code",
   "execution_count": 149,
   "id": "bf1c2052",
   "metadata": {},
   "outputs": [],
   "source": [
    "import tvm\n",
    "from tvm.relay import Call\n",
    "from tvm import relax, tir\n",
    "from tvm.relax.testing import nn\n",
    "from tvm.script import relax as R\n",
    "import numpy as np\n",
    "\n",
    "import pandas as pd\n",
    "\n",
    "from tvm.relax.training import SetupTrainer\n",
    "from tvm.relax.training.trainer import Trainer\n",
    "from tvm.script.parser import ir as I\n",
    "from tvm.relax.training.optimizer import SGD, Adam\n",
    "from tvm.relax.training.loss import MSELoss, CrossEntropyLoss, L1Loss"
   ]
  },
  {
   "cell_type": "code",
   "execution_count": 150,
   "id": "78f9f48f",
   "metadata": {},
   "outputs": [],
   "source": [
    "import tvm.testing\n",
    "import numpy as np\n",
    "from tvm import relax\n",
    "from tvm.script.parser import ir as I\n",
    "from tvm.relax.training.optimizer import SGD\n",
    "from tvm.relax.training.loss import MSELoss\n",
    "from tvm.relax.training.trainer import Trainer"
   ]
  },
  {
   "cell_type": "code",
   "execution_count": 151,
   "id": "69b0aa24",
   "metadata": {},
   "outputs": [],
   "source": [
    "@I.ir_module\n",
    "class MLP:\n",
    "    @R.function\n",
    "    def predict(\n",
    "        w0: R.Tensor((784, 512), \"float32\"),\n",
    "        b0: R.Tensor((1, 512), \"float32\"),\n",
    "        w1: R.Tensor((512, 10), \"float32\"),\n",
    "        b1: R.Tensor((1, 10), \"float32\"),\n",
    "        x: R.Tensor((1, 784), \"float32\")\n",
    "    ):\n",
    "        with R.dataflow():\n",
    "            lv0 = R.matmul(x, w0)\n",
    "            lv1 = R.add(lv0, b0)\n",
    "            lv2 = R.nn.relu(lv1)\n",
    "            lv3 = R.matmul(lv2, w1)\n",
    "            lv4 = R.add(lv3, b1)\n",
    "            out = R.nn.relu(lv4)\n",
    "            #out : R.Tensor((10, 1), \"float32\") = R.nn.log_softmax(lv5)\n",
    "            R.output(out)\n",
    "        return out"
   ]
  },
  {
   "cell_type": "code",
   "execution_count": 152,
   "id": "09f70b20",
   "metadata": {},
   "outputs": [
    {
     "name": "stderr",
     "output_type": "stream",
     "text": [
      "/home/user/relax/python/tvm/script/highlight.py:117: UserWarning: No module named 'black'\n",
      "To print formatted TVM script, please install the formatter 'Black':\n",
      "/usr/bin/python3 -m pip install \"black==22.3.0\" --upgrade --user\n",
      "  warnings.warn(\n"
     ]
    },
    {
     "data": {
      "text/html": [
       "<div class=\"highlight\" style=\"background: \"><pre style=\"line-height: 125%;\"><span></span><span style=\"color: #007979; font-style: italic\"># from tvm.script import ir as I</span>\n",
       "<span style=\"color: #007979; font-style: italic\"># from tvm.script import relax as R</span>\n",
       "\n",
       "<span style=\"color: #AA22FF\">@I</span><span style=\"color: #AA22FF; font-weight: bold\">.</span>ir_module\n",
       "<span style=\"color: #008000; font-weight: bold\">class</span> <span style=\"color: #0000FF; font-weight: bold\">Module</span>:\n",
       "    <span style=\"color: #AA22FF\">@R</span><span style=\"color: #AA22FF; font-weight: bold\">.</span>function\n",
       "    <span style=\"color: #008000; font-weight: bold\">def</span> <span style=\"color: #0000FF\">predict</span>(w0: R<span style=\"color: #AA22FF; font-weight: bold\">.</span>Tensor((<span style=\"color: #008000\">784</span>, <span style=\"color: #008000\">512</span>), dtype<span style=\"color: #AA22FF; font-weight: bold\">=</span><span style=\"color: #BA2121\">&quot;float32&quot;</span>), b0: R<span style=\"color: #AA22FF; font-weight: bold\">.</span>Tensor((<span style=\"color: #008000\">1</span>, <span style=\"color: #008000\">512</span>), dtype<span style=\"color: #AA22FF; font-weight: bold\">=</span><span style=\"color: #BA2121\">&quot;float32&quot;</span>), w1: R<span style=\"color: #AA22FF; font-weight: bold\">.</span>Tensor((<span style=\"color: #008000\">512</span>, <span style=\"color: #008000\">10</span>), dtype<span style=\"color: #AA22FF; font-weight: bold\">=</span><span style=\"color: #BA2121\">&quot;float32&quot;</span>), b1: R<span style=\"color: #AA22FF; font-weight: bold\">.</span>Tensor((<span style=\"color: #008000\">1</span>, <span style=\"color: #008000\">10</span>), dtype<span style=\"color: #AA22FF; font-weight: bold\">=</span><span style=\"color: #BA2121\">&quot;float32&quot;</span>), x: R<span style=\"color: #AA22FF; font-weight: bold\">.</span>Tensor((<span style=\"color: #008000\">1</span>, <span style=\"color: #008000\">784</span>), dtype<span style=\"color: #AA22FF; font-weight: bold\">=</span><span style=\"color: #BA2121\">&quot;float32&quot;</span>)) <span style=\"color: #AA22FF; font-weight: bold\">-&gt;</span> R<span style=\"color: #AA22FF; font-weight: bold\">.</span>Tensor((<span style=\"color: #008000\">1</span>, <span style=\"color: #008000\">10</span>), dtype<span style=\"color: #AA22FF; font-weight: bold\">=</span><span style=\"color: #BA2121\">&quot;float32&quot;</span>):\n",
       "        <span style=\"color: #008000; font-weight: bold\">with</span> R<span style=\"color: #AA22FF; font-weight: bold\">.</span>dataflow():\n",
       "            lv0: R<span style=\"color: #AA22FF; font-weight: bold\">.</span>Tensor((<span style=\"color: #008000\">1</span>, <span style=\"color: #008000\">512</span>), dtype<span style=\"color: #AA22FF; font-weight: bold\">=</span><span style=\"color: #BA2121\">&quot;float32&quot;</span>) <span style=\"color: #AA22FF; font-weight: bold\">=</span> R<span style=\"color: #AA22FF; font-weight: bold\">.</span>matmul(x, w0, out_dtype<span style=\"color: #AA22FF; font-weight: bold\">=</span><span style=\"color: #BA2121\">&quot;void&quot;</span>)\n",
       "            lv1: R<span style=\"color: #AA22FF; font-weight: bold\">.</span>Tensor((<span style=\"color: #008000\">1</span>, <span style=\"color: #008000\">512</span>), dtype<span style=\"color: #AA22FF; font-weight: bold\">=</span><span style=\"color: #BA2121\">&quot;float32&quot;</span>) <span style=\"color: #AA22FF; font-weight: bold\">=</span> R<span style=\"color: #AA22FF; font-weight: bold\">.</span>add(lv0, b0)\n",
       "            lv2: R<span style=\"color: #AA22FF; font-weight: bold\">.</span>Tensor((<span style=\"color: #008000\">1</span>, <span style=\"color: #008000\">512</span>), dtype<span style=\"color: #AA22FF; font-weight: bold\">=</span><span style=\"color: #BA2121\">&quot;float32&quot;</span>) <span style=\"color: #AA22FF; font-weight: bold\">=</span> R<span style=\"color: #AA22FF; font-weight: bold\">.</span>nn<span style=\"color: #AA22FF; font-weight: bold\">.</span>relu(lv1)\n",
       "            lv3: R<span style=\"color: #AA22FF; font-weight: bold\">.</span>Tensor((<span style=\"color: #008000\">1</span>, <span style=\"color: #008000\">10</span>), dtype<span style=\"color: #AA22FF; font-weight: bold\">=</span><span style=\"color: #BA2121\">&quot;float32&quot;</span>) <span style=\"color: #AA22FF; font-weight: bold\">=</span> R<span style=\"color: #AA22FF; font-weight: bold\">.</span>matmul(lv2, w1, out_dtype<span style=\"color: #AA22FF; font-weight: bold\">=</span><span style=\"color: #BA2121\">&quot;void&quot;</span>)\n",
       "            lv4: R<span style=\"color: #AA22FF; font-weight: bold\">.</span>Tensor((<span style=\"color: #008000\">1</span>, <span style=\"color: #008000\">10</span>), dtype<span style=\"color: #AA22FF; font-weight: bold\">=</span><span style=\"color: #BA2121\">&quot;float32&quot;</span>) <span style=\"color: #AA22FF; font-weight: bold\">=</span> R<span style=\"color: #AA22FF; font-weight: bold\">.</span>add(lv3, b1)\n",
       "            out: R<span style=\"color: #AA22FF; font-weight: bold\">.</span>Tensor((<span style=\"color: #008000\">1</span>, <span style=\"color: #008000\">10</span>), dtype<span style=\"color: #AA22FF; font-weight: bold\">=</span><span style=\"color: #BA2121\">&quot;float32&quot;</span>) <span style=\"color: #AA22FF; font-weight: bold\">=</span> R<span style=\"color: #AA22FF; font-weight: bold\">.</span>nn<span style=\"color: #AA22FF; font-weight: bold\">.</span>relu(lv4)\n",
       "            R<span style=\"color: #AA22FF; font-weight: bold\">.</span>output(out)\n",
       "        <span style=\"color: #008000; font-weight: bold\">return</span> out\n",
       "</pre></div>\n"
      ],
      "text/plain": [
       "<IPython.core.display.HTML object>"
      ]
     },
     "metadata": {},
     "output_type": "display_data"
    }
   ],
   "source": [
    "MLP.show()"
   ]
  },
  {
   "cell_type": "code",
   "execution_count": 153,
   "id": "78495770",
   "metadata": {},
   "outputs": [
    {
     "name": "stdout",
     "output_type": "stream",
     "text": [
      "(1, 784)\n",
      "(10,)\n",
      "60000\n"
     ]
    }
   ],
   "source": [
    "from keras.datasets import mnist\n",
    "from keras.utils import to_categorical\n",
    "\n",
    "dtype = \"float32\"\n",
    "target_type = \"float32\"\n",
    "(X_train, Y_train), (_, _) = mnist.load_data()\n",
    "X_train = X_train.reshape((60000, 1, 28 *28))\n",
    "X_train = X_train.astype(dtype) / 255\n",
    "Y_train = to_categorical(Y_train)\n",
    "dataset = []\n",
    "\n",
    "for i in range(60000):\n",
    "    image = X_train[i]\n",
    "    label = Y_train[i]\n",
    "    label = label.reshape(10,)\n",
    "    dataset.append([image, np.array([label]).astype(target_type)])\n",
    "print(len(dataset))"
   ]
  },
  {
   "attachments": {},
   "cell_type": "markdown",
   "id": "6f034947",
   "metadata": {},
   "source": [
    "### SGD = 0.01, MSELoss sum"
   ]
  },
  {
   "cell_type": "code",
   "execution_count": 167,
   "id": "f68caad0",
   "metadata": {},
   "outputs": [
    {
     "name": "stdout",
     "output_type": "stream",
     "text": [
      "#epoch 0 loss= 0.6685268882459768\n",
      "#epoch 1 loss= 0.48878773614821946\n",
      "#epoch 2 loss= 0.40035080977271925\n",
      "#epoch 3 loss= 0.3681695266457375\n",
      "#epoch 4 loss= 0.34977171434240506\n",
      "#epoch 5 loss= 0.2466758261745465\n",
      "#epoch 6 loss= 0.1815956682013973\n",
      "#epoch 7 loss= 0.17461913137881893\n",
      "#epoch 8 loss= 0.16394724244952658\n",
      "#epoch 9 loss= 0.1639585481290311\n",
      "#epoch 10 loss= 0.15745649164027634\n",
      "#epoch 11 loss= 0.15104058435902734\n",
      "#epoch 12 loss= 0.09161025226359264\n",
      "#epoch 13 loss= 0.07760134793105956\n",
      "#epoch 14 loss= 0.0711261617985446\n",
      "#epoch 15 loss= 0.0698637805769927\n",
      "#epoch 16 loss= 0.06549321102205133\n",
      "#epoch 17 loss= 0.06082996498186835\n",
      "#epoch 18 loss= 0.059827928162062116\n",
      "#epoch 19 loss= 0.05981607998374626\n",
      "#epoch 20 loss= 0.053144811133809415\n",
      "#epoch 21 loss= 0.053714072794587085\n",
      "#epoch 22 loss= 0.05845546720246689\n",
      "#epoch 23 loss= 0.055302751522758306\n",
      "#epoch 24 loss= 0.04731345400413637\n",
      "#epoch 25 loss= 0.04608045303887545\n",
      "#epoch 26 loss= 0.046708268822815056\n",
      "#epoch 27 loss= 0.0455864188600189\n",
      "#epoch 28 loss= 0.04855920177189664\n",
      "#epoch 29 loss= 0.04675914769810519\n",
      "#epoch 30 loss= 0.04828631726533748\n",
      "#epoch 31 loss= 0.04602885842818398\n",
      "#epoch 32 loss= 0.04220720724010458\n",
      "#epoch 33 loss= 0.04144994202375451\n",
      "#epoch 34 loss= 0.042356122989472944\n",
      "#epoch 35 loss= 0.04365915946897374\n",
      "#epoch 36 loss= 0.03696105372175328\n",
      "#epoch 37 loss= 0.03797603452709347\n",
      "#epoch 38 loss= 0.036514420300539065\n",
      "#epoch 39 loss= 0.0367641873736032\n",
      "#epoch 40 loss= 0.04076233681480874\n",
      "#epoch 41 loss= 0.034811324308792815\n",
      "#epoch 42 loss= 0.035434691887557115\n",
      "#epoch 43 loss= 0.03285030063482156\n",
      "#epoch 44 loss= 0.034090043666382505\n",
      "#epoch 45 loss= 0.03216060529693364\n",
      "#epoch 46 loss= 0.0327802222644197\n",
      "#epoch 47 loss= 0.03538287460604136\n",
      "#epoch 48 loss= 0.0334771006902736\n",
      "#epoch 49 loss= 0.03506978681855144\n"
     ]
    },
    {
     "data": {
      "text/plain": [
       "<tvm.nd.NDArray shape=(1, 10), cpu(0)>\n",
       "array([[0.        , 0.        , 0.98808765, 0.        , 0.        ,\n",
       "        0.        , 0.        , 0.        , 0.        , 0.        ]],\n",
       "      dtype=float32)"
      ]
     },
     "execution_count": 167,
     "metadata": {},
     "output_type": "execute_result"
    }
   ],
   "source": [
    "import random\n",
    "\n",
    "pred_sinfo = relax.TensorStructInfo((1, 10), \"float32\")\n",
    "setup_trainer = SetupTrainer(\n",
    "    MSELoss(reduction=\"sum\"),\n",
    "    SGD(0.01),\n",
    "    [pred_sinfo, pred_sinfo],\n",
    ")\n",
    "params_num = 4\n",
    "trainer = Trainer(MLP, params_num, setup_trainer)\n",
    "trainer.build(\"llvm\", tvm.cpu(0))\n",
    "trainer.xaiver_uniform_init_params()\n",
    "\n",
    "last_loss = np.inf\n",
    "for epoch in range(50):\n",
    "    loss = 0\n",
    "    batch_size = 5000\n",
    "    for i in range(batch_size):\n",
    "        loss += trainer.update_params(dataset[i][0], dataset[i][1]).numpy()\n",
    "    random.shuffle(dataset)\n",
    "    print(\"#epoch\", epoch, \"loss=\", loss / batch_size)\n",
    "trainer.predict(dataset[0][0])"
   ]
  },
  {
   "cell_type": "code",
   "execution_count": 169,
   "id": "a5bb6604",
   "metadata": {},
   "outputs": [],
   "source": [
    "from sklearn.metrics import accuracy_score\n",
    "from keras.datasets import mnist\n",
    "\n",
    "def eval(_trainer):\n",
    "    (_, _), (X_test, Y_test) = mnist.load_data()\n",
    "    predicted=[]\n",
    "    target=[]\n",
    "    X_test = X_test.astype(dtype) / 255\n",
    "    for i in range(5000):\n",
    "        image = X_test[i]\n",
    "        label = Y_test[i]\n",
    "        image = image.reshape(1, 28*28)\n",
    "        predict = _trainer.predict(image)\n",
    "        predict_label = np.argmax(predict.numpy(), axis=1)[0]\n",
    "        predicted.append(int(predict_label))\n",
    "        target.append(label)\n",
    "    print(\"Accuracy:\", accuracy_score(target, predicted))"
   ]
  },
  {
   "cell_type": "code",
   "execution_count": 170,
   "id": "cf00f1af",
   "metadata": {},
   "outputs": [
    {
     "name": "stdout",
     "output_type": "stream",
     "text": [
      "Accuracy: 0.9756\n"
     ]
    }
   ],
   "source": [
    "eval(trainer)"
   ]
  }
 ],
 "metadata": {
  "kernelspec": {
   "display_name": "Python 3",
   "language": "python",
   "name": "python3"
  },
  "language_info": {
   "codemirror_mode": {
    "name": "ipython",
    "version": 3
   },
   "file_extension": ".py",
   "mimetype": "text/x-python",
   "name": "python",
   "nbconvert_exporter": "python",
   "pygments_lexer": "ipython3",
   "version": "3.10.6"
  },
  "vscode": {
   "interpreter": {
    "hash": "31f2aee4e71d21fbe5cf8b01ff0e069b9275f58929596ceb00d14d90e3e16cd6"
   }
  }
 },
 "nbformat": 4,
 "nbformat_minor": 5
}
