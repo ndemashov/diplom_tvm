{
 "cells": [
  {
   "cell_type": "code",
   "execution_count": 30,
   "id": "e2ab5d64",
   "metadata": {},
   "outputs": [],
   "source": [
    "import sys\n",
    "sys.path.append(\"/home/user/relax/python\")"
   ]
  },
  {
   "attachments": {},
   "cell_type": "markdown",
   "id": "21f6169e",
   "metadata": {},
   "source": [
    "Обучение средствами tvm примитивной сети для распознавания рукописных цифр датасета MNIST."
   ]
  },
  {
   "cell_type": "code",
   "execution_count": 31,
   "id": "bf1c2052",
   "metadata": {},
   "outputs": [],
   "source": [
    "import tvm\n",
    "from tvm.relay import Call\n",
    "from tvm import relax, tir\n",
    "from tvm.relax.testing import nn\n",
    "from tvm.script import relax as R\n",
    "import numpy as np\n",
    "\n",
    "import pandas as pd\n",
    "\n",
    "from tvm.relax.training import SetupTrainer\n",
    "from tvm.relax.training.trainer import Trainer\n",
    "from tvm.script.parser import ir as I\n",
    "from tvm.relax.training.optimizer import SGD, Adam\n",
    "from tvm.relax.training.loss import MSELoss, CrossEntropyLoss, L1Loss"
   ]
  },
  {
   "cell_type": "code",
   "execution_count": 32,
   "id": "78f9f48f",
   "metadata": {},
   "outputs": [],
   "source": [
    "import tvm.testing\n",
    "import numpy as np\n",
    "from tvm import relax\n",
    "from tvm.script.parser import ir as I\n",
    "from tvm.relax.training.optimizer import SGD\n",
    "from tvm.relax.training.loss import MSELoss\n",
    "from tvm.relax.training.trainer import Trainer"
   ]
  },
  {
   "attachments": {},
   "cell_type": "markdown",
   "id": "d7c2976c",
   "metadata": {},
   "source": [
    "1. Создаем модель, содержащую два полносвязных слоя. Модель принимает на вход 1 изобранжение в формате (1, 784) и возвращает вектор вероятностей для каждой цифры (1, 10)."
   ]
  },
  {
   "cell_type": "code",
   "execution_count": 33,
   "id": "69b0aa24",
   "metadata": {},
   "outputs": [],
   "source": [
    "@I.ir_module\n",
    "class MLP:\n",
    "    @R.function\n",
    "    def predict(\n",
    "        w0: R.Tensor((784, 512), \"float32\"),\n",
    "        b0: R.Tensor((1, 512), \"float32\"),\n",
    "        w1: R.Tensor((512, 10), \"float32\"),\n",
    "        b1: R.Tensor((1, 10), \"float32\"),\n",
    "        x: R.Tensor((1, 784), \"float32\")\n",
    "    ):\n",
    "        with R.dataflow():\n",
    "            lv0 = R.matmul(x, w0)\n",
    "            lv1 = R.add(lv0, b0)\n",
    "            lv2 = R.nn.relu(lv1)\n",
    "            lv3 = R.matmul(lv2, w1)\n",
    "            lv4 = R.add(lv3, b1)\n",
    "            out = R.nn.relu(lv4)\n",
    "            R.output(out)\n",
    "        return out"
   ]
  },
  {
   "attachments": {},
   "cell_type": "markdown",
   "id": "3732a526",
   "metadata": {},
   "source": [
    "2. Загружаем датасет MNIST из keras."
   ]
  },
  {
   "cell_type": "code",
   "execution_count": 36,
   "id": "78495770",
   "metadata": {},
   "outputs": [],
   "source": [
    "from keras.datasets import mnist\n",
    "from keras.utils import to_categorical\n",
    "\n",
    "dtype = \"float32\"\n",
    "target_type = \"float32\"\n",
    "(X_train, Y_train), (_, _) = mnist.load_data()\n",
    "X_train = X_train.reshape((60000, 1, 28 *28))\n",
    "X_train = X_train.astype(dtype) / 255\n",
    "Y_train = to_categorical(Y_train)\n",
    "dataset = []\n",
    "\n",
    "for i in range(60000):\n",
    "    image = X_train[i]\n",
    "    label = Y_train[i]\n",
    "    label = label.reshape(10,)\n",
    "    dataset.append([image, np.array([label]).astype(target_type)])"
   ]
  },
  {
   "attachments": {},
   "cell_type": "markdown",
   "id": "1fc10a2d",
   "metadata": {},
   "source": [
    "3. Тренировка модели.\n",
    "Задаем setup_trainer c функцией потерь MSE и оптимизатором SGD.\n",
    "Результат обучения будет сравнивать с аналогичной моделью, обученной с помощью Keras, при обучении которой использовалась функция потерь categorical crossentropy, которая предпочтительнее для решаемой задачи, однако на данный момент в tvm успешно отработывает только MSELoss.\n",
    "Тренируем модель 10 эпох. Обучение заняло 20 минут.\n",
    "Время обучения модели с помощью keras на 10 эпохах составило 20 секунд."
   ]
  },
  {
   "attachments": {},
   "cell_type": "markdown",
   "id": "6f034947",
   "metadata": {},
   "source": [
    "### SGD = 0.01, MSELoss sum"
   ]
  },
  {
   "cell_type": "code",
   "execution_count": 42,
   "id": "f68caad0",
   "metadata": {},
   "outputs": [
    {
     "name": "stdout",
     "output_type": "stream",
     "text": [
      "#epoch 0 loss= 0.4149585630603538\n",
      "#epoch 1 loss= 0.2773886393406354\n",
      "#epoch 2 loss= 0.14383645315356663\n",
      "#epoch 3 loss= 0.13113220750746007\n",
      "#epoch 4 loss= 0.12444584900149694\n",
      "#epoch 5 loss= 0.11981310628275013\n",
      "#epoch 6 loss= 0.09427826497765197\n",
      "#epoch 7 loss= 0.028874767015046578\n",
      "#epoch 8 loss= 0.022517451559328952\n",
      "#epoch 9 loss= 0.018696302398676836\n"
     ]
    },
    {
     "data": {
      "text/plain": [
       "<tvm.nd.NDArray shape=(1, 10), cpu(0)>\n",
       "array([[0.       , 0.       , 0.       , 0.       , 0.       , 0.       ,\n",
       "        0.       , 1.0235652, 0.       , 0.       ]], dtype=float32)"
      ]
     },
     "execution_count": 42,
     "metadata": {},
     "output_type": "execute_result"
    }
   ],
   "source": [
    "pred_sinfo = relax.TensorStructInfo((1, 10), \"float32\")\n",
    "setup_trainer = SetupTrainer(\n",
    "    MSELoss(reduction=\"sum\"),\n",
    "    SGD(0.01),\n",
    "    [pred_sinfo, pred_sinfo],\n",
    ")\n",
    "params_num = 4\n",
    "trainer = Trainer(MLP, params_num, setup_trainer)\n",
    "trainer.build(\"llvm\", tvm.cpu(0))\n",
    "trainer.xaiver_uniform_init_params()\n",
    "\n",
    "last_loss = np.inf\n",
    "for epoch in range(10):\n",
    "    loss = 0\n",
    "    batch_size = 60000\n",
    "    for i in range(batch_size):\n",
    "        loss += trainer.update_params(dataset[i][0], dataset[i][1]).numpy()\n",
    "    print(\"#epoch\", epoch, \"loss=\", loss / batch_size)\n",
    "trainer.predict(dataset[0][0])"
   ]
  },
  {
   "attachments": {},
   "cell_type": "markdown",
   "id": "e3b4c6fa",
   "metadata": {},
   "source": [
    "4. Определяем функцию оценки модели. Используется метрика Accuracy."
   ]
  },
  {
   "cell_type": "code",
   "execution_count": 43,
   "id": "a5bb6604",
   "metadata": {},
   "outputs": [],
   "source": [
    "from sklearn.metrics import accuracy_score\n",
    "from keras.datasets import mnist\n",
    "\n",
    "def eval(_trainer):\n",
    "    (_, _), (X_test, Y_test) = mnist.load_data()\n",
    "    predicted=[]\n",
    "    target=[]\n",
    "    X_test = X_test.astype(dtype) / 255\n",
    "    for i in range(10000):\n",
    "        image = X_test[i]\n",
    "        label = Y_test[i]\n",
    "        image = image.reshape(1, 28*28)\n",
    "        predict = _trainer.predict(image)\n",
    "        predict_label = np.argmax(predict.numpy(), axis=1)[0]\n",
    "        predicted.append(int(predict_label))\n",
    "        target.append(label)\n",
    "    print(\"Accuracy:\", accuracy_score(target, predicted))"
   ]
  },
  {
   "attachments": {},
   "cell_type": "markdown",
   "id": "266ae98b",
   "metadata": {},
   "source": [
    "Обученая модель показывает точность равную похожей модели обученной при помощи keras (0.9822)."
   ]
  },
  {
   "cell_type": "code",
   "execution_count": 44,
   "id": "cf00f1af",
   "metadata": {},
   "outputs": [
    {
     "name": "stdout",
     "output_type": "stream",
     "text": [
      "Accuracy: 0.9822\n"
     ]
    }
   ],
   "source": [
    "eval(trainer)"
   ]
  }
 ],
 "metadata": {
  "kernelspec": {
   "display_name": "Python 3",
   "language": "python",
   "name": "python3"
  },
  "language_info": {
   "codemirror_mode": {
    "name": "ipython",
    "version": 3
   },
   "file_extension": ".py",
   "mimetype": "text/x-python",
   "name": "python",
   "nbconvert_exporter": "python",
   "pygments_lexer": "ipython3",
   "version": "3.10.6"
  },
  "vscode": {
   "interpreter": {
    "hash": "31f2aee4e71d21fbe5cf8b01ff0e069b9275f58929596ceb00d14d90e3e16cd6"
   }
  }
 },
 "nbformat": 4,
 "nbformat_minor": 5
}
