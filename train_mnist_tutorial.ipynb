{
 "cells": [
  {
   "cell_type": "code",
   "execution_count": 1,
   "id": "e2ab5d64",
   "metadata": {},
   "outputs": [],
   "source": [
    "import sys\n",
    "sys.path.append(\"/home/user/relax/python\")"
   ]
  },
  {
   "attachments": {},
   "cell_type": "markdown",
   "id": "21f6169e",
   "metadata": {},
   "source": [
    "## Training a primitive model to recognize handwritten digits from the MNIST dataset."
   ]
  },
  {
   "cell_type": "markdown",
   "metadata": {},
   "source": []
  },
  {
   "cell_type": "code",
   "execution_count": 2,
   "id": "bf1c2052",
   "metadata": {},
   "outputs": [],
   "source": [
    "import tvm\n",
    "from tvm.relay import Call\n",
    "from tvm import relax, tir\n",
    "from tvm.relax.testing import nn\n",
    "from tvm.script import relax as R\n",
    "import numpy as np\n",
    "\n",
    "import pandas as pd\n",
    "\n",
    "from tvm.relax.training import SetupTrainer\n",
    "from tvm.relax.training.trainer import Trainer\n",
    "from tvm.script.parser import ir as I\n",
    "from tvm.relax.training.optimizer import SGD, Adam\n",
    "from tvm.relax.training.loss import MSELoss, CrossEntropyLoss, L1Loss"
   ]
  },
  {
   "cell_type": "code",
   "execution_count": 3,
   "id": "78f9f48f",
   "metadata": {},
   "outputs": [],
   "source": [
    "import tvm.testing\n",
    "import numpy as np\n",
    "from tvm import relax\n",
    "from tvm.script.parser import ir as I\n",
    "from tvm.relax.training.optimizer import SGD\n",
    "from tvm.relax.training.loss import MSELoss\n",
    "from tvm.relax.training.trainer import Trainer"
   ]
  },
  {
   "attachments": {},
   "cell_type": "markdown",
   "id": "d7c2976c",
   "metadata": {},
   "source": [
    "### 1. Create a model that consists of two fully connected layers. The model takes an image in the format (1, 784) and returns a probability vector for each digit (1, 10)."
   ]
  },
  {
   "cell_type": "code",
   "execution_count": 6,
   "id": "69b0aa24",
   "metadata": {},
   "outputs": [],
   "source": [
    "@I.ir_module\n",
    "class MLP:\n",
    "    @R.function\n",
    "    def predict(\n",
    "        w0: R.Tensor((784, 512), \"float32\"),\n",
    "        b0: R.Tensor((1, 512), \"float32\"),\n",
    "        w1: R.Tensor((512, 10), \"float32\"),\n",
    "        b1: R.Tensor((1, 10), \"float32\"),\n",
    "        x: R.Tensor((1, 784), \"float32\")\n",
    "    ):\n",
    "        with R.dataflow():\n",
    "            lv0 = R.matmul(x, w0)\n",
    "            lv1 = R.add(lv0, b0)\n",
    "            lv2 = R.nn.relu(lv1)\n",
    "            lv3 = R.matmul(lv2, w1)\n",
    "            lv4 = R.add(lv3, b1)\n",
    "            out = R.nn.relu(lv4)\n",
    "            R.output(out)\n",
    "        return out"
   ]
  },
  {
   "cell_type": "code",
   "execution_count": 11,
   "id": "e90a24cc",
   "metadata": {},
   "outputs": [
    {
     "name": "stderr",
     "output_type": "stream",
     "text": [
      "/home/user/relax/python/tvm/script/highlight.py:117: UserWarning: No module named 'black'\n",
      "To print formatted TVM script, please install the formatter 'Black':\n",
      "/usr/bin/python3 -m pip install \"black==22.3.0\" --upgrade --user\n",
      "  warnings.warn(\n"
     ]
    },
    {
     "data": {
      "text/html": [
       "<div class=\"highlight\" style=\"background: \"><pre style=\"line-height: 125%;\"><span></span><span style=\"color: #007979; font-style: italic\"># from tvm.script import ir as I</span>\n",
       "<span style=\"color: #007979; font-style: italic\"># from tvm.script import relax as R</span>\n",
       "\n",
       "<span style=\"color: #AA22FF\">@I</span><span style=\"color: #AA22FF; font-weight: bold\">.</span>ir_module\n",
       "<span style=\"color: #008000; font-weight: bold\">class</span> <span style=\"color: #0000FF; font-weight: bold\">Module</span>:\n",
       "    <span style=\"color: #AA22FF\">@R</span><span style=\"color: #AA22FF; font-weight: bold\">.</span>function\n",
       "    <span style=\"color: #008000; font-weight: bold\">def</span> <span style=\"color: #0000FF\">predict</span>(w0: R<span style=\"color: #AA22FF; font-weight: bold\">.</span>Tensor((<span style=\"color: #008000\">784</span>, <span style=\"color: #008000\">512</span>), dtype<span style=\"color: #AA22FF; font-weight: bold\">=</span><span style=\"color: #BA2121\">&quot;float32&quot;</span>), b0: R<span style=\"color: #AA22FF; font-weight: bold\">.</span>Tensor((<span style=\"color: #008000\">1</span>, <span style=\"color: #008000\">512</span>), dtype<span style=\"color: #AA22FF; font-weight: bold\">=</span><span style=\"color: #BA2121\">&quot;float32&quot;</span>), w1: R<span style=\"color: #AA22FF; font-weight: bold\">.</span>Tensor((<span style=\"color: #008000\">512</span>, <span style=\"color: #008000\">10</span>), dtype<span style=\"color: #AA22FF; font-weight: bold\">=</span><span style=\"color: #BA2121\">&quot;float32&quot;</span>), b1: R<span style=\"color: #AA22FF; font-weight: bold\">.</span>Tensor((<span style=\"color: #008000\">1</span>,), dtype<span style=\"color: #AA22FF; font-weight: bold\">=</span><span style=\"color: #BA2121\">&quot;float32&quot;</span>), x: R<span style=\"color: #AA22FF; font-weight: bold\">.</span>Tensor((<span style=\"color: #008000\">1</span>, <span style=\"color: #008000\">784</span>), dtype<span style=\"color: #AA22FF; font-weight: bold\">=</span><span style=\"color: #BA2121\">&quot;float32&quot;</span>)) <span style=\"color: #AA22FF; font-weight: bold\">-&gt;</span> R<span style=\"color: #AA22FF; font-weight: bold\">.</span>Tensor((<span style=\"color: #008000\">1</span>, <span style=\"color: #008000\">10</span>), dtype<span style=\"color: #AA22FF; font-weight: bold\">=</span><span style=\"color: #BA2121\">&quot;float32&quot;</span>):\n",
       "        R<span style=\"color: #AA22FF; font-weight: bold\">.</span>func_attr({<span style=\"color: #BA2121\">&quot;params_num&quot;</span>: <span style=\"color: #008000\">4</span>})\n",
       "        <span style=\"color: #008000; font-weight: bold\">with</span> R<span style=\"color: #AA22FF; font-weight: bold\">.</span>dataflow():\n",
       "            lv0: R<span style=\"color: #AA22FF; font-weight: bold\">.</span>Tensor((<span style=\"color: #008000\">1</span>, <span style=\"color: #008000\">512</span>), dtype<span style=\"color: #AA22FF; font-weight: bold\">=</span><span style=\"color: #BA2121\">&quot;float32&quot;</span>) <span style=\"color: #AA22FF; font-weight: bold\">=</span> R<span style=\"color: #AA22FF; font-weight: bold\">.</span>matmul(x, w0, out_dtype<span style=\"color: #AA22FF; font-weight: bold\">=</span><span style=\"color: #BA2121\">&quot;void&quot;</span>)\n",
       "            lv1: R<span style=\"color: #AA22FF; font-weight: bold\">.</span>Tensor((<span style=\"color: #008000\">1</span>, <span style=\"color: #008000\">512</span>), dtype<span style=\"color: #AA22FF; font-weight: bold\">=</span><span style=\"color: #BA2121\">&quot;float32&quot;</span>) <span style=\"color: #AA22FF; font-weight: bold\">=</span> R<span style=\"color: #AA22FF; font-weight: bold\">.</span>add(lv0, b0)\n",
       "            lv2: R<span style=\"color: #AA22FF; font-weight: bold\">.</span>Tensor((<span style=\"color: #008000\">1</span>, <span style=\"color: #008000\">512</span>), dtype<span style=\"color: #AA22FF; font-weight: bold\">=</span><span style=\"color: #BA2121\">&quot;float32&quot;</span>) <span style=\"color: #AA22FF; font-weight: bold\">=</span> R<span style=\"color: #AA22FF; font-weight: bold\">.</span>nn<span style=\"color: #AA22FF; font-weight: bold\">.</span>relu(lv1)\n",
       "            lv3: R<span style=\"color: #AA22FF; font-weight: bold\">.</span>Tensor((<span style=\"color: #008000\">1</span>, <span style=\"color: #008000\">10</span>), dtype<span style=\"color: #AA22FF; font-weight: bold\">=</span><span style=\"color: #BA2121\">&quot;float32&quot;</span>) <span style=\"color: #AA22FF; font-weight: bold\">=</span> R<span style=\"color: #AA22FF; font-weight: bold\">.</span>matmul(lv2, w1, out_dtype<span style=\"color: #AA22FF; font-weight: bold\">=</span><span style=\"color: #BA2121\">&quot;void&quot;</span>)\n",
       "            lv4: R<span style=\"color: #AA22FF; font-weight: bold\">.</span>Tensor((<span style=\"color: #008000\">1</span>, <span style=\"color: #008000\">10</span>), dtype<span style=\"color: #AA22FF; font-weight: bold\">=</span><span style=\"color: #BA2121\">&quot;float32&quot;</span>) <span style=\"color: #AA22FF; font-weight: bold\">=</span> R<span style=\"color: #AA22FF; font-weight: bold\">.</span>add(lv3, b1)\n",
       "            out: R<span style=\"color: #AA22FF; font-weight: bold\">.</span>Tensor((<span style=\"color: #008000\">1</span>, <span style=\"color: #008000\">10</span>), dtype<span style=\"color: #AA22FF; font-weight: bold\">=</span><span style=\"color: #BA2121\">&quot;float32&quot;</span>) <span style=\"color: #AA22FF; font-weight: bold\">=</span> R<span style=\"color: #AA22FF; font-weight: bold\">.</span>nn<span style=\"color: #AA22FF; font-weight: bold\">.</span>relu(lv4)\n",
       "            R<span style=\"color: #AA22FF; font-weight: bold\">.</span>output(out)\n",
       "        <span style=\"color: #008000; font-weight: bold\">return</span> out\n",
       "</pre></div>\n"
      ],
      "text/plain": [
       "<IPython.core.display.HTML object>"
      ]
     },
     "metadata": {},
     "output_type": "display_data"
    }
   ],
   "source": [
    "MLP.show()"
   ]
  },
  {
   "attachments": {},
   "cell_type": "markdown",
   "id": "3732a526",
   "metadata": {},
   "source": [
    "### 2. Load the MNIST dataset from keras."
   ]
  },
  {
   "cell_type": "code",
   "execution_count": 7,
   "id": "78495770",
   "metadata": {},
   "outputs": [],
   "source": [
    "from keras.datasets import mnist\n",
    "from keras.utils import to_categorical\n",
    "\n",
    "dtype = \"float32\"\n",
    "target_type = \"float32\"\n",
    "(X_train, Y_train), (_, _) = mnist.load_data()\n",
    "X_train = X_train.reshape((60000, 1, 28 *28))\n",
    "X_train = X_train.astype(dtype) / 255\n",
    "Y_train = to_categorical(Y_train)\n",
    "dataset = []\n",
    "\n",
    "for i in range(60000):\n",
    "    image = X_train[i]\n",
    "    label = Y_train[i]\n",
    "    label = label.reshape(10,)\n",
    "    dataset.append([image, np.array([label]).astype(target_type)])"
   ]
  },
  {
   "attachments": {},
   "cell_type": "markdown",
   "id": "1fc10a2d",
   "metadata": {},
   "source": [
    "### 3. Model training.\n",
    "#### Define setup_trainer with MSE loss function and SGD optimizer. The training output will be compared to a similar model trained with Keras that was trained using a categorical cross entropy loss function. This is preferable for a multi-class classification problem, but categorical cross-entropy loss is not yet supported in tvm. Train the model for 10 epochs. The workout lasted 20 minutes. The training time of the model with keras for 10 epochs was 20 seconds."
   ]
  },
  {
   "attachments": {},
   "cell_type": "markdown",
   "id": "6f034947",
   "metadata": {},
   "source": [
    "#### SGD = 0.01, MSELoss sum"
   ]
  },
  {
   "cell_type": "code",
   "execution_count": null,
   "id": "f68caad0",
   "metadata": {},
   "outputs": [],
   "source": [
    "pred_sinfo = relax.TensorStructInfo((1, 10), \"float32\")\n",
    "setup_trainer = SetupTrainer(\n",
    "    MSELoss(reduction=\"sum\"),\n",
    "    SGD(0.01),\n",
    "    [pred_sinfo, pred_sinfo],\n",
    ")\n",
    "params_num = 4\n",
    "trainer = Trainer(MLP, params_num, setup_trainer)\n",
    "trainer.build(\"llvm\", tvm.cpu(0))\n",
    "trainer.xaiver_uniform_init_params()\n",
    "\n",
    "last_loss = np.inf\n",
    "for epoch in range(1):\n",
    "    loss = 0\n",
    "    batch_size = 60\n",
    "    for i in range(batch_size):\n",
    "        loss += trainer.update_params(dataset[i][0], dataset[i][1]).numpy()\n",
    "    print(\"#epoch\", epoch, \"loss=\", loss / batch_size)\n",
    "trainer.predict(dataset[0][0])"
   ]
  },
  {
   "attachments": {},
   "cell_type": "markdown",
   "id": "e3b4c6fa",
   "metadata": {},
   "source": [
    "### 4. Define the evaluation function. The Accuracy metric is used."
   ]
  },
  {
   "cell_type": "code",
   "execution_count": 43,
   "id": "a5bb6604",
   "metadata": {},
   "outputs": [],
   "source": [
    "from sklearn.metrics import accuracy_score\n",
    "from keras.datasets import mnist\n",
    "\n",
    "def eval(_trainer):\n",
    "    (_, _), (X_test, Y_test) = mnist.load_data()\n",
    "    predicted=[]\n",
    "    target=[]\n",
    "    X_test = X_test.astype(dtype) / 255\n",
    "    for i in range(10000):\n",
    "        image = X_test[i]\n",
    "        label = Y_test[i]\n",
    "        image = image.reshape(1, 28*28)\n",
    "        predict = _trainer.predict(image)\n",
    "        predict_label = np.argmax(predict.numpy(), axis=1)[0]\n",
    "        predicted.append(int(predict_label))\n",
    "        target.append(label)\n",
    "    print(\"Accuracy:\", accuracy_score(target, predicted))"
   ]
  },
  {
   "attachments": {},
   "cell_type": "markdown",
   "id": "266ae98b",
   "metadata": {},
   "source": [
    "### Result.\n",
    "#### The model trained with tvm shows an accuracy equal to a similar model trained with keras. (0.9822)."
   ]
  },
  {
   "cell_type": "code",
   "execution_count": 44,
   "id": "cf00f1af",
   "metadata": {},
   "outputs": [
    {
     "name": "stdout",
     "output_type": "stream",
     "text": [
      "Accuracy: 0.9822\n"
     ]
    }
   ],
   "source": [
    "eval(trainer)"
   ]
  }
 ],
 "metadata": {
  "kernelspec": {
   "display_name": "Python 3",
   "language": "python",
   "name": "python3"
  },
  "language_info": {
   "codemirror_mode": {
    "name": "ipython",
    "version": 3
   },
   "file_extension": ".py",
   "mimetype": "text/x-python",
   "name": "python",
   "nbconvert_exporter": "python",
   "pygments_lexer": "ipython3",
   "version": "3.10.6"
  },
  "vscode": {
   "interpreter": {
    "hash": "31f2aee4e71d21fbe5cf8b01ff0e069b9275f58929596ceb00d14d90e3e16cd6"
   }
  }
 },
 "nbformat": 4,
 "nbformat_minor": 5
}
