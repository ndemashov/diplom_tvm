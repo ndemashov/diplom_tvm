{
 "cells": [
  {
   "cell_type": "code",
   "execution_count": 1,
   "metadata": {},
   "outputs": [],
   "source": [
    "import sys\n",
    "sys.path.append(\"/home/user/diplom/tvm/python\")"
   ]
  },
  {
   "cell_type": "code",
   "execution_count": 2,
   "metadata": {},
   "outputs": [],
   "source": [
    "import tvm\n",
    "from tvm import relax\n",
    "import numpy as np"
   ]
  },
  {
   "cell_type": "code",
   "execution_count": 4,
   "metadata": {},
   "outputs": [
    {
     "name": "stderr",
     "output_type": "stream",
     "text": [
      "/home/user/diplom/tvm-env/lib/python3.10/site-packages/tqdm/auto.py:21: TqdmWarning: IProgress not found. Please update jupyter and ipywidgets. See https://ipywidgets.readthedocs.io/en/stable/user_install.html\n",
      "  from .autonotebook import tqdm as notebook_tqdm\n"
     ]
    }
   ],
   "source": [
    "from torchvision import transforms\n",
    "\n",
    "test_transforms = transforms.Compose(\n",
    "    [\n",
    "        transforms.Resize((224,224)),\n",
    "        transforms.ToTensor(),\n",
    "        transforms.Normalize(mean=[0.485, 0.456, 0.406],\n",
    "                                     std=[0.229, 0.224, 0.225])\n",
    "    ]\n",
    ")"
   ]
  },
  {
   "cell_type": "code",
   "execution_count": 35,
   "metadata": {},
   "outputs": [],
   "source": [
    "fer_model_name = \"/home/user/diplom/fer.so\"\n",
    "vm_fer = relax.VirtualMachine(tvm.runtime.load_module(fer_model_name), tvm.cpu())"
   ]
  },
  {
   "cell_type": "code",
   "execution_count": 47,
   "metadata": {},
   "outputs": [],
   "source": [
    "import tvm\n",
    "import numpy as np\n",
    "import pandas as pd\n",
    "\n",
    "import os\n",
    "\n",
    "from tvm.script.parser import ir as I\n",
    "from tvm.script import relax as R\n",
    "\n",
    "from tvm.relax.training import SetupTrainer\n",
    "from tvm.relax.training.trainer import Trainer\n",
    "from tvm.relax.training.optimizer import Adam\n",
    "from tvm.relax.training.loss import CategoricalCrossEntropyLoss"
   ]
  },
  {
   "cell_type": "code",
   "execution_count": 37,
   "metadata": {},
   "outputs": [],
   "source": [
    "@I.ir_module\n",
    "class FER:\n",
    "    I.module_attrs({\"param_num\": 2, \"state_num\": 0})\n",
    "    \n",
    "    @R.function\n",
    "    def backbone(\n",
    "        x: R.Tensor((1, 1280), \"float32\"),\n",
    "        w0: R.Tensor((1280, 8), \"float32\"),\n",
    "        b0: R.Tensor((1, 8), \"float32\"),\n",
    "    ):\n",
    "        with R.dataflow():\n",
    "            lv0 = R.matmul(x, w0)\n",
    "            lv1 = R.add(lv0, b0)\n",
    "            out = R.nn.softmax(lv1, axis = 1)\n",
    "            R.output(out)\n",
    "        return out\n",
    "    \n",
    "emotions = ['neutral', 'calm', 'happy', 'sad', 'angry', 'fearful', 'disgust', 'surprised']"
   ]
  },
  {
   "cell_type": "code",
   "execution_count": 38,
   "metadata": {},
   "outputs": [],
   "source": [
    "pred_sinfo = relax.TensorStructInfo((1, 8), \"float32\")\n",
    "target_sinfo = relax.TensorStructInfo((1, 8), \"int32\")\n",
    "setup_trainer = SetupTrainer(\n",
    "    CategoricalCrossEntropyLoss(reduction=\"mean\"),\n",
    "    Adam(0.0001),\n",
    "    [pred_sinfo, target_sinfo],\n",
    ")\n",
    "\n",
    "train_mod = setup_trainer(FER)\n",
    "\n",
    "dev = tvm.device(\"cpu\", 0)\n",
    "target=\"cpu\"\n",
    "\n",
    "trainer = Trainer(train_mod, vm_fer, dev, False)"
   ]
  },
  {
   "cell_type": "code",
   "execution_count": 39,
   "metadata": {},
   "outputs": [],
   "source": [
    "import pickle\n",
    "\n",
    "with open('/home/user/diplom/fer_model_params.pkl', 'rb') as f:\n",
    "    model_params = pickle.load(f)\n",
    "trainer.load_params(model_params)"
   ]
  },
  {
   "cell_type": "code",
   "execution_count": 40,
   "metadata": {},
   "outputs": [],
   "source": [
    "def load_features(file_name):\n",
    "    with open(file_name, 'rb') as f:\n",
    "        return pickle.load(f)"
   ]
  },
  {
   "cell_type": "code",
   "execution_count": 41,
   "metadata": {},
   "outputs": [],
   "source": [
    "features = load_features('/home/user/diplom/all_features/features05-07.pickle')"
   ]
  },
  {
   "cell_type": "code",
   "execution_count": 29,
   "metadata": {},
   "outputs": [],
   "source": [
    "target_type = \"int32\"\n",
    "label = np.array([[0, 0, 1, 0, 0, 0, 0, 0]]).astype(target_type)"
   ]
  },
  {
   "cell_type": "code",
   "execution_count": 43,
   "metadata": {},
   "outputs": [
    {
     "data": {
      "text/plain": [
       "<tvm.nd.NDArray shape=(), cpu(0)>\n",
       "array(0.16105825, dtype=float32)"
      ]
     },
     "execution_count": 43,
     "metadata": {},
     "output_type": "execute_result"
    }
   ],
   "source": [
    "trainer.update(features[0], label)"
   ]
  },
  {
   "cell_type": "code",
   "execution_count": null,
   "metadata": {},
   "outputs": [],
   "source": [
    "last_loss = np.inf\n",
    "for epoch in range(5):\n",
    "    loss = 0\n",
    "    batch_size = 60000\n",
    "    for i in range(batch_size):\n",
    "        loss += trainer.update_params(features[i], dataset[i][1]).numpy()\n",
    "    print(\"#epoch\", epoch, \"loss=\", loss / batch_size)"
   ]
  },
  {
   "cell_type": "code",
   "execution_count": 44,
   "metadata": {},
   "outputs": [
    {
     "data": {
      "text/plain": [
       "<tvm.nd.NDArray shape=(1, 8), cpu(0)>\n",
       "array([[1.3907691e-16, 1.7230758e-13, 9.9957722e-01, 6.4557399e-19,\n",
       "        4.0041466e-04, 3.1970312e-11, 7.5862937e-07, 2.1688054e-05]],\n",
       "      dtype=float32)"
      ]
     },
     "execution_count": 44,
     "metadata": {},
     "output_type": "execute_result"
    }
   ],
   "source": [
    "trainer.predict(features[40])"
   ]
  },
  {
   "attachments": {},
   "cell_type": "markdown",
   "metadata": {},
   "source": [
    "### split"
   ]
  },
  {
   "cell_type": "code",
   "execution_count": 46,
   "metadata": {},
   "outputs": [
    {
     "name": "stdout",
     "output_type": "stream",
     "text": [
      "features01-03.pickle  features04-03.pickle  features06-01.pickle\n",
      "features01-08.pickle  features04-04.pickle  features06-08.pickle\n",
      "features01-11.pickle  features04-05.pickle  features06-13.pickle\n",
      "features01-13.pickle  features04-09.pickle  features07-03.pickle\n",
      "features02-06.pickle  features04-14.pickle  features07-06.pickle\n",
      "features02-08.pickle  features05-05.pickle  features07-07.pickle\n",
      "features02-14.pickle  features05-06.pickle  features08-01.pickle\n",
      "features03-03.pickle  features05-07.pickle  features08-05.pickle\n",
      "features03-07.pickle  features05-08.pickle  features08-08.pickle\n",
      "features03-14.pickle  features05-09.pickle  features08-12.pickle\n"
     ]
    }
   ],
   "source": [
    "! ls all_features"
   ]
  },
  {
   "cell_type": "code",
   "execution_count": 48,
   "metadata": {},
   "outputs": [],
   "source": [
    "DATA_DIR = 'all_features'\n",
    "all_features = os.listdir(DATA_DIR)"
   ]
  },
  {
   "cell_type": "code",
   "execution_count": 58,
   "metadata": {},
   "outputs": [],
   "source": [
    "def get_label(features_file):\n",
    "    return int(features_file.split('-')[0][-2:])"
   ]
  },
  {
   "cell_type": "code",
   "execution_count": 57,
   "metadata": {},
   "outputs": [
    {
     "name": "stdout",
     "output_type": "stream",
     "text": [
      "4\n",
      "2\n",
      "1\n",
      "4\n",
      "3\n",
      "4\n",
      "0\n",
      "5\n",
      "6\n",
      "3\n",
      "2\n",
      "7\n",
      "4\n",
      "7\n",
      "3\n",
      "5\n",
      "1\n",
      "2\n",
      "3\n",
      "0\n",
      "7\n",
      "0\n",
      "6\n",
      "5\n",
      "7\n",
      "6\n",
      "4\n",
      "3\n",
      "0\n",
      "1\n"
     ]
    }
   ],
   "source": [
    "all_labels = [0] * 8\n",
    "for features_file in all_features:\n",
    "    features = load_features()\n",
    "    all_labels[]\n"
   ]
  },
  {
   "cell_type": "code",
   "execution_count": null,
   "metadata": {},
   "outputs": [],
   "source": []
  }
 ],
 "metadata": {
  "kernelspec": {
   "display_name": "tvm-env",
   "language": "python",
   "name": "python3"
  },
  "language_info": {
   "codemirror_mode": {
    "name": "ipython",
    "version": 3
   },
   "file_extension": ".py",
   "mimetype": "text/x-python",
   "name": "python",
   "nbconvert_exporter": "python",
   "pygments_lexer": "ipython3",
   "version": "3.10.6"
  },
  "orig_nbformat": 4
 },
 "nbformat": 4,
 "nbformat_minor": 2
}
